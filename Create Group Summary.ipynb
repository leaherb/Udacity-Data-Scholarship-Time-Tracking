{
 "cells": [
  {
   "cell_type": "code",
   "execution_count": null,
   "metadata": {},
   "outputs": [],
   "source": [
    "import dateutil\n",
    "import numpy\n",
    "import pandas as pd\n",
    "from tkinter import filedialog\n",
    "import csv\n",
    "from pprint import pprint"
   ]
  },
  {
   "cell_type": "code",
   "execution_count": null,
   "metadata": {},
   "outputs": [],
   "source": [
    "def csv_to_df(csv_filename):\n",
    "    '''Return a dataframe with contents from CSV file.'''\n",
    "    \n",
    "    df = pd.read_csv(csv_filename)\n",
    "\n",
    "    # Convert Date column from string to datetime \n",
    "    df['Date']=pd.to_datetime(df['Date'])\n",
    "\n",
    "    # Index dataframe on Date field, making it easier to do time-based analysis\n",
    "    df.set_index(df['Date'], inplace=True)\n",
    "    \n",
    "    return df"
   ]
  },
  {
   "cell_type": "code",
   "execution_count": null,
   "metadata": {},
   "outputs": [],
   "source": [
    "def calc_c_versus_p_hours(list):\n",
    "    '''Return two numbers: total Class Hours and total Participation (non-Class) Hours.'''\n",
    "    \n",
    "    result = []\n",
    "    total_c_hours = 0\n",
    "    total_p_hours = 0\n",
    "    for item in list:\n",
    "        # note: 'type of participation' is a column heading in the time sheet that is manually \n",
    "        # updated prior to loading via this python script. \n",
    "        # Make standardizing column headings part of the cleaning function.\n",
    "        time_type, hours = item['type of participation'], item['Hours']\n",
    "        if time_type == 'C':\n",
    "            total_c_hours += hours\n",
    "        else:\n",
    "            total_p_hours += hours\n",
    "            \n",
    "    return [round(total_c_hours,2), round(total_p_hours,2)]\n"
   ]
  },
  {
   "cell_type": "code",
   "execution_count": null,
   "metadata": {},
   "outputs": [],
   "source": [
    "def analyze_df(df):\n",
    "    '''Return list of calculations based on dataframe columns.'''\n",
    "    \n",
    "    # Code is rough for now, but works. \n",
    "    # Rework so I don't have to manually update timesheets with Hours. Just use Duration.\n",
    "    \n",
    "    # Group by weeks, sum the hours\n",
    "    hours=df['Hours'].resample('W').sum()\n",
    " \n",
    "    # Count number of unique weeks\n",
    "    week_count=df['Hours'].resample('W').sum().count()\n",
    "    \n",
    "    # Calculate basic stats\n",
    "    mean_hours=round(numpy.mean(hours),2)\n",
    "    median_hours=round(numpy.median(hours),2)\n",
    "    STD_hours=round(numpy.std(hours,ddof=1),2)\n",
    "    \n",
    "    # Convert df to list for easier calculating. Recode when I know more python. \n",
    "    df_list = df.to_dict('records')\n",
    "    \n",
    "    # Get Class vs Participation totals\n",
    "    subtotals = calc_c_versus_p_hours(df_list)\n",
    "\n",
    "    result_list = [week_count, mean_hours, median_hours, STD_hours, subtotals[0], subtotals[1], round((subtotals[0]/week_count),2), round((subtotals[1]/week_count),2)]\n",
    "    \n",
    "    return result_list"
   ]
  },
  {
   "cell_type": "code",
   "execution_count": null,
   "metadata": {},
   "outputs": [],
   "source": [
    "def print_report(list):\n",
    "    \n",
    "    for i in range(1,len(list)):\n",
    "        for j in range(len(list[0])):\n",
    "            print('{}:\\t{}'.format(list[0][j], list[i][j]))\n",
    "        print('\\n')"
   ]
  },
  {
   "cell_type": "code",
   "execution_count": null,
   "metadata": {},
   "outputs": [],
   "source": [
    "# ----------------------------------------------------------------------\n",
    "# Main\n",
    "if __name__ == '__main__':\n",
    "    '''Summarize a set of time sheets, output to a CSV file named \"timesheet_summary.csv\".'''\n",
    "    \n",
    "    # Possible Improvements: \n",
    "    # * Use upload survey spreadsheet to grab filenames and incorporate answers from upload survey \n",
    "    #   (need a purpose for the survey answers first!), \n",
    "    #   -- or --\n",
    "    #   Instead of prompting for csv files, prompt for a directory then grab all CSV files in it.\n",
    "\n",
    "    # Initialize \n",
    "    consolidated_list = [['Participant','Week Count','Mean Hours','Median Hours','STD Hours',\\\n",
    "                          'Total C Hours','Total P Hours','Avg C Hours','Avg P Hours']]\n",
    "    filename = ' '\n",
    "    list_index = 0\n",
    "\n",
    "    # Prompt for CSV files until cancel, processing and adding each CSV's data to consolidated list.\n",
    "    while filename:\n",
    "        filename = filedialog.askopenfilename(title='Select FitBit CSV', filetypes=[(\"CSV\",\"*.csv\"),(\"All files\",\"*.*\")])\n",
    "        if filename:\n",
    "            print('Loading {}\\n'.format(filename))\n",
    "            list_index += 1\n",
    "            df = csv_to_df(filename)  \n",
    "            csv_list = [list_index] + analyze_df(df)\n",
    "            consolidated_list.append(csv_list)\n",
    "            \n",
    "    summary_filename = 'timesheet_summary.csv'\n",
    "    with open(summary_filename, \"w\") as f:\n",
    "        writer = csv.writer(f)\n",
    "        writer.writerows(consolidated_list)\n",
    "        \n",
    "    print('...\\nSummary data written to: {}\\nProcess complete.'.format(summary_filename))"
   ]
  },
  {
   "cell_type": "code",
   "execution_count": null,
   "metadata": {},
   "outputs": [],
   "source": [
    "print_report(consolidated_list)"
   ]
  }
 ],
 "metadata": {
  "kernelspec": {
   "display_name": "Python [conda env:py3]",
   "language": "python",
   "name": "conda-env-py3-py"
  },
  "language_info": {
   "codemirror_mode": {
    "name": "ipython",
    "version": 3
   },
   "file_extension": ".py",
   "mimetype": "text/x-python",
   "name": "python",
   "nbconvert_exporter": "python",
   "pygments_lexer": "ipython3",
   "version": "3.6.4"
  }
 },
 "nbformat": 4,
 "nbformat_minor": 2
}
